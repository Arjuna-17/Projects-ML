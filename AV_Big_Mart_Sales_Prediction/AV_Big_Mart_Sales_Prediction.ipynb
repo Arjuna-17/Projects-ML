{
 "cells": [
  {
   "cell_type": "markdown",
   "metadata": {
    "colab_type": "text",
    "id": "_Mbh7RaUdjTc"
   },
   "source": [
    "# **Big - Mart Sales**"
   ]
  },
  {
   "cell_type": "code",
   "execution_count": null,
   "metadata": {
    "colab": {
     "base_uri": "https://localhost:8080/",
     "height": 71
    },
    "colab_type": "code",
    "id": "oliTgrvDHawv",
    "outputId": "fde6ba0d-be06-480d-9af2-a45616063c3f"
   },
   "outputs": [
    {
     "name": "stderr",
     "output_type": "stream",
     "text": [
      "/usr/local/lib/python3.6/dist-packages/statsmodels/tools/_testing.py:19: FutureWarning: pandas.util.testing is deprecated. Use the functions in the public API at pandas.testing instead.\n",
      "  import pandas.util.testing as tm\n"
     ]
    }
   ],
   "source": [
    "# Importing Libraries\n",
    "\n",
    "import pandas as pd\n",
    "import numpy as np\n",
    "import matplotlib.pyplot as plt\n",
    "import seaborn as sns\n",
    "import warnings\n",
    "warnings.filterwarnings('ignore')"
   ]
  },
  {
   "cell_type": "code",
   "execution_count": null,
   "metadata": {
    "colab": {
     "base_uri": "https://localhost:8080/",
     "height": 51
    },
    "colab_type": "code",
    "id": "li2nwIGqHbSz",
    "outputId": "8865b26d-c6c9-4c6e-816d-ca92967c11a8"
   },
   "outputs": [
    {
     "name": "stdout",
     "output_type": "stream",
     "text": [
      "(8523, 12)\n",
      "(5681, 11)\n"
     ]
    }
   ],
   "source": [
    "# Importing Datasets\n",
    "\n",
    "train = pd.read_csv('/content/AV_Big_Mart_Sales_Prediction_Train.csv')\n",
    "test = pd.read_csv('/content/AV_Big_Mart_Sales_Prediction_Test.csv')\n",
    "print(train.shape)\n",
    "print(test.shape)"
   ]
  },
  {
   "cell_type": "code",
   "execution_count": null,
   "metadata": {
    "colab": {},
    "colab_type": "code",
    "id": "edBuUI9btSxP"
   },
   "outputs": [],
   "source": [
    "train['source']='train'\n",
    "test['source']='test'"
   ]
  },
  {
   "cell_type": "code",
   "execution_count": null,
   "metadata": {
    "colab": {
     "base_uri": "https://localhost:8080/",
     "height": 34
    },
    "colab_type": "code",
    "id": "Af48NutGHbVq",
    "outputId": "20b59664-5418-4e67-df58-1e247c606f55"
   },
   "outputs": [
    {
     "name": "stdout",
     "output_type": "stream",
     "text": [
      "(14204, 13)\n"
     ]
    }
   ],
   "source": [
    "data =  pd.concat([train, test], ignore_index = True)\n",
    "print(data.shape)"
   ]
  },
  {
   "cell_type": "code",
   "execution_count": null,
   "metadata": {
    "colab": {
     "base_uri": "https://localhost:8080/",
     "height": 255
    },
    "colab_type": "code",
    "id": "7vFmb4CjHbY6",
    "outputId": "0137431c-63ec-42ba-99f9-f7a6f1ee5d45"
   },
   "outputs": [
    {
     "data": {
      "text/plain": [
       "Item_Identifier                 0\n",
       "Item_Weight                  2439\n",
       "Item_Fat_Content                0\n",
       "Item_Visibility                 0\n",
       "Item_Type                       0\n",
       "Item_MRP                        0\n",
       "Outlet_Identifier               0\n",
       "Outlet_Establishment_Year       0\n",
       "Outlet_Size                  4016\n",
       "Outlet_Location_Type            0\n",
       "Outlet_Type                     0\n",
       "Item_Outlet_Sales            5681\n",
       "source                          0\n",
       "dtype: int64"
      ]
     },
     "execution_count": 5,
     "metadata": {
      "tags": []
     },
     "output_type": "execute_result"
    }
   ],
   "source": [
    "data.isnull().sum()"
   ]
  },
  {
   "cell_type": "code",
   "execution_count": null,
   "metadata": {
    "colab": {
     "base_uri": "https://localhost:8080/",
     "height": 452
    },
    "colab_type": "code",
    "id": "vtIBQOzDHbbq",
    "outputId": "271feac7-f62c-4958-920c-cc5d06fb6a82"
   },
   "outputs": [
    {
     "data": {
      "text/html": [
       "<div>\n",
       "<style scoped>\n",
       "    .dataframe tbody tr th:only-of-type {\n",
       "        vertical-align: middle;\n",
       "    }\n",
       "\n",
       "    .dataframe tbody tr th {\n",
       "        vertical-align: top;\n",
       "    }\n",
       "\n",
       "    .dataframe thead th {\n",
       "        text-align: right;\n",
       "    }\n",
       "</style>\n",
       "<table border=\"1\" class=\"dataframe\">\n",
       "  <thead>\n",
       "    <tr style=\"text-align: right;\">\n",
       "      <th></th>\n",
       "      <th>count</th>\n",
       "      <th>unique</th>\n",
       "      <th>top</th>\n",
       "      <th>freq</th>\n",
       "      <th>mean</th>\n",
       "      <th>std</th>\n",
       "      <th>min</th>\n",
       "      <th>25%</th>\n",
       "      <th>50%</th>\n",
       "      <th>75%</th>\n",
       "      <th>max</th>\n",
       "    </tr>\n",
       "  </thead>\n",
       "  <tbody>\n",
       "    <tr>\n",
       "      <th>Item_Identifier</th>\n",
       "      <td>14204</td>\n",
       "      <td>1559</td>\n",
       "      <td>FDX46</td>\n",
       "      <td>10</td>\n",
       "      <td>NaN</td>\n",
       "      <td>NaN</td>\n",
       "      <td>NaN</td>\n",
       "      <td>NaN</td>\n",
       "      <td>NaN</td>\n",
       "      <td>NaN</td>\n",
       "      <td>NaN</td>\n",
       "    </tr>\n",
       "    <tr>\n",
       "      <th>Item_Weight</th>\n",
       "      <td>11765</td>\n",
       "      <td>NaN</td>\n",
       "      <td>NaN</td>\n",
       "      <td>NaN</td>\n",
       "      <td>12.7929</td>\n",
       "      <td>4.6525</td>\n",
       "      <td>4.555</td>\n",
       "      <td>8.71</td>\n",
       "      <td>12.6</td>\n",
       "      <td>16.75</td>\n",
       "      <td>21.35</td>\n",
       "    </tr>\n",
       "    <tr>\n",
       "      <th>Item_Fat_Content</th>\n",
       "      <td>14204</td>\n",
       "      <td>5</td>\n",
       "      <td>Low Fat</td>\n",
       "      <td>8485</td>\n",
       "      <td>NaN</td>\n",
       "      <td>NaN</td>\n",
       "      <td>NaN</td>\n",
       "      <td>NaN</td>\n",
       "      <td>NaN</td>\n",
       "      <td>NaN</td>\n",
       "      <td>NaN</td>\n",
       "    </tr>\n",
       "    <tr>\n",
       "      <th>Item_Visibility</th>\n",
       "      <td>14204</td>\n",
       "      <td>NaN</td>\n",
       "      <td>NaN</td>\n",
       "      <td>NaN</td>\n",
       "      <td>0.0659528</td>\n",
       "      <td>0.0514586</td>\n",
       "      <td>0</td>\n",
       "      <td>0.0270357</td>\n",
       "      <td>0.0540205</td>\n",
       "      <td>0.0940373</td>\n",
       "      <td>0.328391</td>\n",
       "    </tr>\n",
       "    <tr>\n",
       "      <th>Item_Type</th>\n",
       "      <td>14204</td>\n",
       "      <td>16</td>\n",
       "      <td>Fruits and Vegetables</td>\n",
       "      <td>2013</td>\n",
       "      <td>NaN</td>\n",
       "      <td>NaN</td>\n",
       "      <td>NaN</td>\n",
       "      <td>NaN</td>\n",
       "      <td>NaN</td>\n",
       "      <td>NaN</td>\n",
       "      <td>NaN</td>\n",
       "    </tr>\n",
       "    <tr>\n",
       "      <th>Item_MRP</th>\n",
       "      <td>14204</td>\n",
       "      <td>NaN</td>\n",
       "      <td>NaN</td>\n",
       "      <td>NaN</td>\n",
       "      <td>141.005</td>\n",
       "      <td>62.0869</td>\n",
       "      <td>31.29</td>\n",
       "      <td>94.012</td>\n",
       "      <td>142.247</td>\n",
       "      <td>185.856</td>\n",
       "      <td>266.888</td>\n",
       "    </tr>\n",
       "    <tr>\n",
       "      <th>Outlet_Identifier</th>\n",
       "      <td>14204</td>\n",
       "      <td>10</td>\n",
       "      <td>OUT027</td>\n",
       "      <td>1559</td>\n",
       "      <td>NaN</td>\n",
       "      <td>NaN</td>\n",
       "      <td>NaN</td>\n",
       "      <td>NaN</td>\n",
       "      <td>NaN</td>\n",
       "      <td>NaN</td>\n",
       "      <td>NaN</td>\n",
       "    </tr>\n",
       "    <tr>\n",
       "      <th>Outlet_Establishment_Year</th>\n",
       "      <td>14204</td>\n",
       "      <td>NaN</td>\n",
       "      <td>NaN</td>\n",
       "      <td>NaN</td>\n",
       "      <td>1997.83</td>\n",
       "      <td>8.37166</td>\n",
       "      <td>1985</td>\n",
       "      <td>1987</td>\n",
       "      <td>1999</td>\n",
       "      <td>2004</td>\n",
       "      <td>2009</td>\n",
       "    </tr>\n",
       "    <tr>\n",
       "      <th>Outlet_Size</th>\n",
       "      <td>10188</td>\n",
       "      <td>3</td>\n",
       "      <td>Medium</td>\n",
       "      <td>4655</td>\n",
       "      <td>NaN</td>\n",
       "      <td>NaN</td>\n",
       "      <td>NaN</td>\n",
       "      <td>NaN</td>\n",
       "      <td>NaN</td>\n",
       "      <td>NaN</td>\n",
       "      <td>NaN</td>\n",
       "    </tr>\n",
       "    <tr>\n",
       "      <th>Outlet_Location_Type</th>\n",
       "      <td>14204</td>\n",
       "      <td>3</td>\n",
       "      <td>Tier 3</td>\n",
       "      <td>5583</td>\n",
       "      <td>NaN</td>\n",
       "      <td>NaN</td>\n",
       "      <td>NaN</td>\n",
       "      <td>NaN</td>\n",
       "      <td>NaN</td>\n",
       "      <td>NaN</td>\n",
       "      <td>NaN</td>\n",
       "    </tr>\n",
       "    <tr>\n",
       "      <th>Outlet_Type</th>\n",
       "      <td>14204</td>\n",
       "      <td>4</td>\n",
       "      <td>Supermarket Type1</td>\n",
       "      <td>9294</td>\n",
       "      <td>NaN</td>\n",
       "      <td>NaN</td>\n",
       "      <td>NaN</td>\n",
       "      <td>NaN</td>\n",
       "      <td>NaN</td>\n",
       "      <td>NaN</td>\n",
       "      <td>NaN</td>\n",
       "    </tr>\n",
       "    <tr>\n",
       "      <th>Item_Outlet_Sales</th>\n",
       "      <td>8523</td>\n",
       "      <td>NaN</td>\n",
       "      <td>NaN</td>\n",
       "      <td>NaN</td>\n",
       "      <td>2181.29</td>\n",
       "      <td>1706.5</td>\n",
       "      <td>33.29</td>\n",
       "      <td>834.247</td>\n",
       "      <td>1794.33</td>\n",
       "      <td>3101.3</td>\n",
       "      <td>13087</td>\n",
       "    </tr>\n",
       "    <tr>\n",
       "      <th>source</th>\n",
       "      <td>14204</td>\n",
       "      <td>2</td>\n",
       "      <td>train</td>\n",
       "      <td>8523</td>\n",
       "      <td>NaN</td>\n",
       "      <td>NaN</td>\n",
       "      <td>NaN</td>\n",
       "      <td>NaN</td>\n",
       "      <td>NaN</td>\n",
       "      <td>NaN</td>\n",
       "      <td>NaN</td>\n",
       "    </tr>\n",
       "  </tbody>\n",
       "</table>\n",
       "</div>"
      ],
      "text/plain": [
       "                           count unique  ...        75%       max\n",
       "Item_Identifier            14204   1559  ...        NaN       NaN\n",
       "Item_Weight                11765    NaN  ...      16.75     21.35\n",
       "Item_Fat_Content           14204      5  ...        NaN       NaN\n",
       "Item_Visibility            14204    NaN  ...  0.0940373  0.328391\n",
       "Item_Type                  14204     16  ...        NaN       NaN\n",
       "Item_MRP                   14204    NaN  ...    185.856   266.888\n",
       "Outlet_Identifier          14204     10  ...        NaN       NaN\n",
       "Outlet_Establishment_Year  14204    NaN  ...       2004      2009\n",
       "Outlet_Size                10188      3  ...        NaN       NaN\n",
       "Outlet_Location_Type       14204      3  ...        NaN       NaN\n",
       "Outlet_Type                14204      4  ...        NaN       NaN\n",
       "Item_Outlet_Sales           8523    NaN  ...     3101.3     13087\n",
       "source                     14204      2  ...        NaN       NaN\n",
       "\n",
       "[13 rows x 11 columns]"
      ]
     },
     "execution_count": 6,
     "metadata": {
      "tags": []
     },
     "output_type": "execute_result"
    }
   ],
   "source": [
    "data.describe(include = 'all').transpose()"
   ]
  },
  {
   "cell_type": "markdown",
   "metadata": {
    "colab_type": "text",
    "id": "wVG2-CeWbu3v"
   },
   "source": [
    "## **Imputing Values**"
   ]
  },
  {
   "cell_type": "code",
   "execution_count": null,
   "metadata": {
    "colab": {},
    "colab_type": "code",
    "id": "lwIrCDp0HbeZ"
   },
   "outputs": [],
   "source": [
    "from scipy.stats import mode\n",
    "\n",
    "item_avg_weight = data.pivot_table(values='Item_Weight', index='Item_Identifier')\n",
    "miss_bool = data['Item_Weight'].isnull() \n",
    "data.loc[miss_bool,'Item_Weight'] = data.loc[miss_bool,'Item_Identifier'].apply(lambda x: item_avg_weight.loc[x])\n",
    "\n",
    "outlet_size_mode = data.pivot_table(values='Outlet_Size', columns='Outlet_Type',aggfunc=(lambda x:mode(x).mode[0]) )\n",
    "miss_bool = data['Outlet_Size'].isnull() \n",
    "data.loc[miss_bool,'Outlet_Size'] = data.loc[miss_bool,'Outlet_Type'].apply(lambda x: outlet_size_mode[x])\n",
    "\n",
    "visibility_avg = data.pivot_table(values='Item_Visibility', index='Item_Identifier')\n",
    "miss_bool = (data['Item_Visibility'] == 0)\n",
    "data.loc[miss_bool,'Item_Visibility'] = data.loc[miss_bool,'Item_Identifier'].apply(lambda x: visibility_avg.loc[x])"
   ]
  },
  {
   "cell_type": "code",
   "execution_count": null,
   "metadata": {
    "colab": {
     "base_uri": "https://localhost:8080/",
     "height": 1000
    },
    "colab_type": "code",
    "id": "zfxyTnJ-Hbmr",
    "outputId": "38a1ecca-223f-4ecb-f462-362752ba0eb5"
   },
   "outputs": [
    {
     "name": "stdout",
     "output_type": "stream",
     "text": [
      "********************NEW********************\n",
      "Item_Fat_Content\n",
      "Low Fat    8485\n",
      "Regular    4824\n",
      "LF          522\n",
      "reg         195\n",
      "low fat     178\n",
      "Name: Item_Fat_Content, dtype: int64\n",
      "********************NEW********************\n",
      "Item_Type\n",
      "Fruits and Vegetables    2013\n",
      "Snack Foods              1989\n",
      "Household                1548\n",
      "Frozen Foods             1426\n",
      "Dairy                    1136\n",
      "Baking Goods             1086\n",
      "Canned                   1084\n",
      "Health and Hygiene        858\n",
      "Meat                      736\n",
      "Soft Drinks               726\n",
      "Breads                    416\n",
      "Hard Drinks               362\n",
      "Others                    280\n",
      "Starchy Foods             269\n",
      "Breakfast                 186\n",
      "Seafood                    89\n",
      "Name: Item_Type, dtype: int64\n",
      "********************NEW********************\n",
      "Outlet_Identifier\n",
      "OUT027    1559\n",
      "OUT013    1553\n",
      "OUT046    1550\n",
      "OUT035    1550\n",
      "OUT049    1550\n",
      "OUT045    1548\n",
      "OUT018    1546\n",
      "OUT017    1543\n",
      "OUT010     925\n",
      "OUT019     880\n",
      "Name: Outlet_Identifier, dtype: int64\n",
      "********************NEW********************\n",
      "Outlet_Size\n",
      "Small     7996\n",
      "Medium    4655\n",
      "High      1553\n",
      "Name: Outlet_Size, dtype: int64\n",
      "********************NEW********************\n",
      "Outlet_Location_Type\n",
      "Tier 3    5583\n",
      "Tier 2    4641\n",
      "Tier 1    3980\n",
      "Name: Outlet_Location_Type, dtype: int64\n",
      "********************NEW********************\n",
      "Outlet_Type\n",
      "Supermarket Type1    9294\n",
      "Grocery Store        1805\n",
      "Supermarket Type3    1559\n",
      "Supermarket Type2    1546\n",
      "Name: Outlet_Type, dtype: int64\n",
      "********************NEW********************\n",
      "source\n",
      "train    8523\n",
      "test     5681\n",
      "Name: source, dtype: int64\n"
     ]
    }
   ],
   "source": [
    "# Categorical Variables\n",
    "\n",
    "cat_var = data.select_dtypes('object').columns\n",
    "cat_var = cat_var.drop('Item_Identifier')\n",
    "\n",
    "for i in cat_var:\n",
    "  print(\"********************NEW********************\")\n",
    "  print(f\"{i}\")\n",
    "  print(data[i].value_counts())"
   ]
  },
  {
   "cell_type": "markdown",
   "metadata": {
    "colab_type": "text",
    "id": "ZGtlsAkvcI-X"
   },
   "source": [
    "## **Feature Engineering**"
   ]
  },
  {
   "cell_type": "code",
   "execution_count": null,
   "metadata": {
    "colab": {},
    "colab_type": "code",
    "id": "i56TOxPIHbsW"
   },
   "outputs": [],
   "source": [
    "data['Item_Identifier_Type'] = data['Item_Identifier'].apply(lambda x : x[:2])\n",
    "data['Item_Identifier_Type_Number'] = data['Item_Identifier'].apply(lambda x : int(x[-2:]))\n",
    "data['Outlet_Identifier_Number'] = data['Outlet_Identifier'].apply(lambda x : x[-3:])"
   ]
  },
  {
   "cell_type": "markdown",
   "metadata": {
    "colab_type": "text",
    "id": "1z5YCc58cRK3"
   },
   "source": [
    "## **Data Preprocessing**"
   ]
  },
  {
   "cell_type": "code",
   "execution_count": null,
   "metadata": {
    "colab": {},
    "colab_type": "code",
    "id": "l_1bZuLUHbpt"
   },
   "outputs": [],
   "source": [
    "data['Item_Fat_Content'] = data['Item_Fat_Content'].replace({'LF' : 'Low Fat',\n",
    "                                                             'low fat' : 'Low Fat',\n",
    "                                                             'reg' : 'Regular'})\n",
    "\n",
    "data.loc[data['Item_Identifier_Type']==\"NC\",'Item_Fat_Content'] = \"Non Consumable\"\n",
    "\n",
    "data['Outlet_Age'] = 2013 - data['Outlet_Establishment_Year']\n",
    "data.drop('Outlet_Establishment_Year', axis = 1, inplace = True)"
   ]
  },
  {
   "cell_type": "markdown",
   "metadata": {
    "colab_type": "text",
    "id": "Idf4k6Jsci1-"
   },
   "source": [
    "## **Categorical to Continuous**"
   ]
  },
  {
   "cell_type": "code",
   "execution_count": null,
   "metadata": {
    "colab": {},
    "colab_type": "code",
    "id": "R1MHZdBMHb1S"
   },
   "outputs": [],
   "source": [
    "data['Item_Fat_Content'] = data['Item_Fat_Content'].map({'Low Fat' : 0,\n",
    "                                                         'Regular' : 1,\n",
    "                                                         'Non Consumable' : 2})\n",
    "\n",
    "data['Item_Type'] = data['Item_Type'].map({'Fruits and Vegetables' : 0,\n",
    "                                           'Snack Foods' : 1,\n",
    "                                           'Household' : 2,\n",
    "                                           'Frozen Foods' : 3,\n",
    "                                           'Dairy' : 4,\n",
    "                                           'Baking Goods' : 5,\n",
    "                                           'Canned' : 6,\n",
    "                                           'Health and Hygiene' : 7,\n",
    "                                           'Meat' : 8,\n",
    "                                           'Soft Drinks' : 9,\n",
    "                                           'Breads' : 10,\n",
    "                                           'Hard Drinks' : 11,\n",
    "                                           'Others' : 12,\n",
    "                                           'Starchy Foods' : 13,\n",
    "                                           'Breakfast' : 14,\n",
    "                                           'Seafood' : 15})\n",
    "\n",
    "data['Outlet_Size'] = data['Outlet_Size'].map({'Small' : 0,\n",
    "                                               'Medium' : 1,\n",
    "                                               'High' : 2})\n",
    "\n",
    "data['Outlet_Location_Type'] = data['Outlet_Location_Type'].map({'Tier 1' : 0,\n",
    "                                                                 'Tier 2' : 1,\n",
    "                                                                 'Tier 3' : 2})\n",
    "\n",
    "data['Outlet_Type'] = data['Outlet_Type'].map({'Grocery Store' : 0,\n",
    "                                               'Supermarket Type1' : 1,\n",
    "                                               'Supermarket Type2' : 2,\n",
    "                                               'Supermarket Type3' : 3})\n",
    "\n",
    "data['Item_Identifier_Type'] = data['Item_Identifier_Type'].map({'FD' : 0,\n",
    "                                                                 'NC' : 1,\n",
    "                                                                 'DR' : 2})\n",
    "\n",
    "data['Item_Identifier_Type_Number'] = data['Item_Identifier_Type_Number'].apply(lambda x : int(x))\n",
    "data['Outlet_Identifier_Number'] = data['Outlet_Identifier_Number'].apply(lambda x : int(x))"
   ]
  },
  {
   "cell_type": "code",
   "execution_count": null,
   "metadata": {
    "colab": {
     "base_uri": "https://localhost:8080/",
     "height": 306
    },
    "colab_type": "code",
    "id": "QJjgSlQGHb9v",
    "outputId": "430dbbbb-ee1a-43d2-86b1-024fd51afd8b"
   },
   "outputs": [
    {
     "data": {
      "text/plain": [
       "Item_Identifier                 object\n",
       "Item_Weight                    float64\n",
       "Item_Fat_Content                 int64\n",
       "Item_Visibility                float64\n",
       "Item_Type                        int64\n",
       "Item_MRP                       float64\n",
       "Outlet_Identifier               object\n",
       "Outlet_Size                      int64\n",
       "Outlet_Location_Type             int64\n",
       "Outlet_Type                      int64\n",
       "Item_Outlet_Sales              float64\n",
       "source                          object\n",
       "Item_Identifier_Type             int64\n",
       "Item_Identifier_Type_Number      int64\n",
       "Outlet_Identifier_Number         int64\n",
       "Outlet_Age                       int64\n",
       "dtype: object"
      ]
     },
     "execution_count": 12,
     "metadata": {
      "tags": []
     },
     "output_type": "execute_result"
    }
   ],
   "source": [
    "# Final Datatypes\n",
    "\n",
    "data.dtypes"
   ]
  },
  {
   "cell_type": "code",
   "execution_count": null,
   "metadata": {
    "colab": {
     "base_uri": "https://localhost:8080/",
     "height": 224
    },
    "colab_type": "code",
    "id": "fQ-XkF1XHcBF",
    "outputId": "83b3735d-05d6-457f-cf65-21d73b281695"
   },
   "outputs": [
    {
     "data": {
      "text/html": [
       "<div>\n",
       "<style scoped>\n",
       "    .dataframe tbody tr th:only-of-type {\n",
       "        vertical-align: middle;\n",
       "    }\n",
       "\n",
       "    .dataframe tbody tr th {\n",
       "        vertical-align: top;\n",
       "    }\n",
       "\n",
       "    .dataframe thead th {\n",
       "        text-align: right;\n",
       "    }\n",
       "</style>\n",
       "<table border=\"1\" class=\"dataframe\">\n",
       "  <thead>\n",
       "    <tr style=\"text-align: right;\">\n",
       "      <th></th>\n",
       "      <th>Item_Identifier</th>\n",
       "      <th>Item_Weight</th>\n",
       "      <th>Item_Fat_Content</th>\n",
       "      <th>Item_Visibility</th>\n",
       "      <th>Item_Type</th>\n",
       "      <th>Item_MRP</th>\n",
       "      <th>Outlet_Identifier</th>\n",
       "      <th>Outlet_Size</th>\n",
       "      <th>Outlet_Location_Type</th>\n",
       "      <th>Outlet_Type</th>\n",
       "      <th>Item_Outlet_Sales</th>\n",
       "      <th>source</th>\n",
       "      <th>Item_Identifier_Type</th>\n",
       "      <th>Item_Identifier_Type_Number</th>\n",
       "      <th>Outlet_Identifier_Number</th>\n",
       "      <th>Outlet_Age</th>\n",
       "    </tr>\n",
       "  </thead>\n",
       "  <tbody>\n",
       "    <tr>\n",
       "      <th>0</th>\n",
       "      <td>FDA15</td>\n",
       "      <td>9.30</td>\n",
       "      <td>0</td>\n",
       "      <td>0.016047</td>\n",
       "      <td>4</td>\n",
       "      <td>249.8092</td>\n",
       "      <td>OUT049</td>\n",
       "      <td>1</td>\n",
       "      <td>0</td>\n",
       "      <td>1</td>\n",
       "      <td>3735.1380</td>\n",
       "      <td>train</td>\n",
       "      <td>0</td>\n",
       "      <td>15</td>\n",
       "      <td>49</td>\n",
       "      <td>14</td>\n",
       "    </tr>\n",
       "    <tr>\n",
       "      <th>1</th>\n",
       "      <td>DRC01</td>\n",
       "      <td>5.92</td>\n",
       "      <td>1</td>\n",
       "      <td>0.019278</td>\n",
       "      <td>9</td>\n",
       "      <td>48.2692</td>\n",
       "      <td>OUT018</td>\n",
       "      <td>1</td>\n",
       "      <td>2</td>\n",
       "      <td>2</td>\n",
       "      <td>443.4228</td>\n",
       "      <td>train</td>\n",
       "      <td>2</td>\n",
       "      <td>1</td>\n",
       "      <td>18</td>\n",
       "      <td>4</td>\n",
       "    </tr>\n",
       "    <tr>\n",
       "      <th>2</th>\n",
       "      <td>FDN15</td>\n",
       "      <td>17.50</td>\n",
       "      <td>0</td>\n",
       "      <td>0.016760</td>\n",
       "      <td>8</td>\n",
       "      <td>141.6180</td>\n",
       "      <td>OUT049</td>\n",
       "      <td>1</td>\n",
       "      <td>0</td>\n",
       "      <td>1</td>\n",
       "      <td>2097.2700</td>\n",
       "      <td>train</td>\n",
       "      <td>0</td>\n",
       "      <td>15</td>\n",
       "      <td>49</td>\n",
       "      <td>14</td>\n",
       "    </tr>\n",
       "    <tr>\n",
       "      <th>3</th>\n",
       "      <td>FDX07</td>\n",
       "      <td>19.20</td>\n",
       "      <td>1</td>\n",
       "      <td>0.017834</td>\n",
       "      <td>0</td>\n",
       "      <td>182.0950</td>\n",
       "      <td>OUT010</td>\n",
       "      <td>0</td>\n",
       "      <td>2</td>\n",
       "      <td>0</td>\n",
       "      <td>732.3800</td>\n",
       "      <td>train</td>\n",
       "      <td>0</td>\n",
       "      <td>7</td>\n",
       "      <td>10</td>\n",
       "      <td>15</td>\n",
       "    </tr>\n",
       "    <tr>\n",
       "      <th>4</th>\n",
       "      <td>NCD19</td>\n",
       "      <td>8.93</td>\n",
       "      <td>2</td>\n",
       "      <td>0.009780</td>\n",
       "      <td>2</td>\n",
       "      <td>53.8614</td>\n",
       "      <td>OUT013</td>\n",
       "      <td>2</td>\n",
       "      <td>2</td>\n",
       "      <td>1</td>\n",
       "      <td>994.7052</td>\n",
       "      <td>train</td>\n",
       "      <td>1</td>\n",
       "      <td>19</td>\n",
       "      <td>13</td>\n",
       "      <td>26</td>\n",
       "    </tr>\n",
       "  </tbody>\n",
       "</table>\n",
       "</div>"
      ],
      "text/plain": [
       "  Item_Identifier  Item_Weight  ...  Outlet_Identifier_Number  Outlet_Age\n",
       "0           FDA15         9.30  ...                        49          14\n",
       "1           DRC01         5.92  ...                        18           4\n",
       "2           FDN15        17.50  ...                        49          14\n",
       "3           FDX07        19.20  ...                        10          15\n",
       "4           NCD19         8.93  ...                        13          26\n",
       "\n",
       "[5 rows x 16 columns]"
      ]
     },
     "execution_count": 13,
     "metadata": {
      "tags": []
     },
     "output_type": "execute_result"
    }
   ],
   "source": [
    "# Final Dataset\n",
    "\n",
    "data.head()"
   ]
  },
  {
   "cell_type": "markdown",
   "metadata": {
    "colab_type": "text",
    "id": "TS5s5zA2dBIB"
   },
   "source": [
    "## **Visualising Data**"
   ]
  },
  {
   "cell_type": "code",
   "execution_count": null,
   "metadata": {
    "colab": {
     "base_uri": "https://localhost:8080/",
     "height": 406
    },
    "colab_type": "code",
    "id": "MqBj5Y8oHcDn",
    "outputId": "390132f9-dc3d-4d1c-8ec0-13a20c398f9d"
   },
   "outputs": [
    {
     "data": {
      "text/plain": [
       "<matplotlib.axes._subplots.AxesSubplot at 0x7f8f2adda358>"
      ]
     },
     "execution_count": 14,
     "metadata": {
      "tags": []
     },
     "output_type": "execute_result"
    },
    {
     "data": {
      "image/png": "[encoded data removed]",
      "text/plain": [
       "<Figure size 864x432 with 1 Axes>"
      ]
     },
     "metadata": {
      "needs_background": "light",
      "tags": []
     },
     "output_type": "display_data"
    }
   ],
   "source": [
    "plt.figure(figsize = (12, 6))\n",
    "sns.distplot(data['Item_Weight'], kde = False, color = 'r')"
   ]
  },
  {
   "cell_type": "code",
   "execution_count": null,
   "metadata": {
    "colab": {
     "base_uri": "https://localhost:8080/",
     "height": 406
    },
    "colab_type": "code",
    "id": "CQx_2ltQHcGb",
    "outputId": "a6d611b1-0341-4618-ec4a-6ac698ca9bca"
   },
   "outputs": [
    {
     "data": {
      "text/plain": [
       "<matplotlib.axes._subplots.AxesSubplot at 0x7f8f2ad05eb8>"
      ]
     },
     "execution_count": 15,
     "metadata": {
      "tags": []
     },
     "output_type": "execute_result"
    },
    {
     "data": {
      "image/png": "[encoded data removed]",
      "text/plain": [
       "<Figure size 864x432 with 1 Axes>"
      ]
     },
     "metadata": {
      "needs_background": "light",
      "tags": []
     },
     "output_type": "display_data"
    }
   ],
   "source": [
    "plt.figure(figsize = (12, 6))\n",
    "sns.distplot(np.sqrt(data['Item_Visibility']), kde = False, color = 'y')"
   ]
  },
  {
   "cell_type": "code",
   "execution_count": null,
   "metadata": {
    "colab": {
     "base_uri": "https://localhost:8080/",
     "height": 406
    },
    "colab_type": "code",
    "id": "tDVZ9S2bHcJd",
    "outputId": "22737485-34a2-49c6-917c-8eb6ccef25b0"
   },
   "outputs": [
    {
     "data": {
      "text/plain": [
       "<matplotlib.axes._subplots.AxesSubplot at 0x7f8f2b5b2ef0>"
      ]
     },
     "execution_count": 16,
     "metadata": {
      "tags": []
     },
     "output_type": "execute_result"
    },
    {
     "data": {
      "image/png": "[encoded data removed]",
      "text/plain": [
       "<Figure size 864x432 with 1 Axes>"
      ]
     },
     "metadata": {
      "needs_background": "light",
      "tags": []
     },
     "output_type": "display_data"
    }
   ],
   "source": [
    "plt.figure(figsize = (12, 6))\n",
    "sns.distplot(data['Item_MRP'], kde = False, color = 'g', bins = 20)"
   ]
  },
  {
   "cell_type": "code",
   "execution_count": null,
   "metadata": {
    "colab": {},
    "colab_type": "code",
    "id": "VVl3F_yxHcLw"
   },
   "outputs": [],
   "source": [
    "data['Item_Visibility'] = np.sqrt(data['Item_Visibility'])"
   ]
  },
  {
   "cell_type": "markdown",
   "metadata": {
    "colab_type": "text",
    "id": "VrI4pY0-dZLf"
   },
   "source": [
    "## **Train - Test Split**"
   ]
  },
  {
   "cell_type": "code",
   "execution_count": null,
   "metadata": {
    "colab": {
     "base_uri": "https://localhost:8080/",
     "height": 102
    },
    "colab_type": "code",
    "id": "414C5TjGasgZ",
    "outputId": "94a7cf57-027c-4ef9-f178-ccdab251ba4e"
   },
   "outputs": [
    {
     "name": "stderr",
     "output_type": "stream",
     "text": [
      "/usr/local/lib/python3.6/dist-packages/pandas/core/frame.py:3997: SettingWithCopyWarning: \n",
      "A value is trying to be set on a copy of a slice from a DataFrame\n",
      "\n",
      "See the caveats in the documentation: https://pandas.pydata.org/pandas-docs/stable/user_guide/indexing.html#returning-a-view-versus-a-copy\n",
      "  errors=errors,\n"
     ]
    }
   ],
   "source": [
    "train = data.loc[data['source'] == \"train\"]\n",
    "test = data.loc[data['source'] == \"test\"]\n",
    "\n",
    "train.drop(['source'],axis = 1,inplace = True)\n",
    "test.drop(['Item_Outlet_Sales', 'source'], axis = 1, inplace = True)"
   ]
  },
  {
   "cell_type": "markdown",
   "metadata": {
    "colab_type": "text",
    "id": "e2_vtp0ddqQ0"
   },
   "source": [
    "## **Features and Target Variables**"
   ]
  },
  {
   "cell_type": "code",
   "execution_count": null,
   "metadata": {
    "colab": {},
    "colab_type": "code",
    "id": "VDGwMhzWasi-"
   },
   "outputs": [],
   "source": [
    "features = train.drop(['Item_Outlet_Sales', 'Outlet_Identifier', 'Item_Identifier'], axis = 1).columns\n",
    "target = 'Item_Outlet_Sales'\n",
    "ID = ['Item_Identifier', 'Outlet_Identifier']"
   ]
  },
  {
   "cell_type": "markdown",
   "metadata": {
    "colab_type": "text",
    "id": "xx6v_LwTdzTL"
   },
   "source": [
    "## **User - Defined Model Creation Function**"
   ]
  },
  {
   "cell_type": "code",
   "execution_count": null,
   "metadata": {
    "colab": {},
    "colab_type": "code",
    "id": "qfgXgofxaslj"
   },
   "outputs": [],
   "source": [
    "from sklearn.metrics import mean_squared_error\n",
    "from sklearn.model_selection import cross_val_score\n",
    "\n",
    "def My_model(model, M_train, features, target):\n",
    "\n",
    "    model.fit(M_train[features], M_train[target])\n",
    "        \n",
    "\n",
    "    M_train_predictions = model.predict(M_train[features])\n",
    "\n",
    "\n",
    "    cv_score = cross_val_score(model, M_train[features], M_train[target], cv=20)\n",
    "    cv_score = np.sqrt(np.abs(cv_score))\n",
    "    \n",
    "\n",
    "    print(\"\\nModel Performance\")\n",
    "    print(\"RMSE : %.4g\" % np.sqrt(mean_squared_error(M_train[target].values, M_train_predictions)))\n",
    "    print(\"CV Score : Mean Score - %.4g | Std Score - %.4g | Min Score - %.4g | Max Score - %.4g\" % (np.mean(cv_score),np.std(cv_score),np.min(cv_score),np.max(cv_score)))"
   ]
  },
  {
   "cell_type": "markdown",
   "metadata": {
    "colab_type": "text",
    "id": "oOaOY5yZeUtw"
   },
   "source": [
    "## **Importing and Checking Performance of Model**"
   ]
  },
  {
   "cell_type": "code",
   "execution_count": null,
   "metadata": {
    "colab": {
     "base_uri": "https://localhost:8080/",
     "height": 85
    },
    "colab_type": "code",
    "id": "SbatFDp28c-q",
    "outputId": "cce00a15-65aa-46b4-81ff-300f55e8eb78"
   },
   "outputs": [
    {
     "name": "stdout",
     "output_type": "stream",
     "text": [
      "\n",
      "Model Performance\n",
      "RMSE : 896.7\n",
      "CV Score : Mean Score - 0.7586 | Std Score - 0.02791 | Min Score - 0.6868 | Max Score - 0.7945\n"
     ]
    }
   ],
   "source": [
    "from lightgbm import LGBMRegressor\n",
    "\n",
    "lgb = LGBMRegressor(max_depth = 7, learning_rate = 0.02, n_estimators = 700,\n",
    "                    reg_alpha = 2, reg_lambda = 2, colsample_bytree = 0.90, random_state = 17)\n",
    "\n",
    "My_model(lgb, train, features, target)"
   ]
  },
  {
   "cell_type": "markdown",
   "metadata": {
    "colab_type": "text",
    "id": "WT7hryOKeiTX"
   },
   "source": [
    "## **Training and Generating Predictions**"
   ]
  },
  {
   "cell_type": "code",
   "execution_count": null,
   "metadata": {
    "colab": {},
    "colab_type": "code",
    "id": "X85uv6qc_aiJ"
   },
   "outputs": [],
   "source": [
    "lgb.fit(train[features], train[target])\n",
    "\n",
    "my_pred = lgb.predict(test.drop(['Outlet_Identifier', 'Item_Identifier'], axis = 1))"
   ]
  },
  {
   "cell_type": "code",
   "execution_count": null,
   "metadata": {
    "colab": {
     "base_uri": "https://localhost:8080/",
     "height": 170
    },
    "colab_type": "code",
    "id": "OJVmycmf_aov",
    "outputId": "952212a4-f000-4ed2-895a-1d31e04fc5c6"
   },
   "outputs": [
    {
     "data": {
      "text/plain": [
       "count    5681.000000\n",
       "mean     2179.651547\n",
       "std      1359.090682\n",
       "min      -228.817898\n",
       "25%      1070.326770\n",
       "50%      2084.084160\n",
       "75%      3043.506808\n",
       "max      7818.373719\n",
       "Name: Item_Outlet_Sales, dtype: float64"
      ]
     },
     "execution_count": 23,
     "metadata": {
      "tags": []
     },
     "output_type": "execute_result"
    }
   ],
   "source": [
    "pred = pd.DataFrame({ x: test[x] for x in ID})\n",
    "pred['Item_Outlet_Sales'] = my_pred\n",
    "\n",
    "pred['Item_Outlet_Sales'].describe()"
   ]
  },
  {
   "cell_type": "code",
   "execution_count": null,
   "metadata": {
    "colab": {},
    "colab_type": "code",
    "id": "vvRDKM79e7gu"
   },
   "outputs": [],
   "source": [
    "# As the Minimum Value is Negative - Changing to Positive\n",
    "\n",
    "for i in range(len(pred)):\n",
    "  if  my_pred[i] > 0:\n",
    "    pass\n",
    "  else:\n",
    "    my_pred[i] = (-1 * my_pred[i])\n",
    "\n",
    "pred['Item_Outlet_Sales'] = my_pred"
   ]
  },
  {
   "cell_type": "markdown",
   "metadata": {
    "colab_type": "text",
    "id": "FQeVcFwLgOwg"
   },
   "source": [
    "## **Saving Predictions**"
   ]
  },
  {
   "cell_type": "code",
   "execution_count": null,
   "metadata": {
    "colab": {},
    "colab_type": "code",
    "id": "ZoX4uom5DCbd"
   },
   "outputs": [],
   "source": [
    "pred.to_csv('AV_Big_Mart_Sales_Prediction.csv', index = False)"
   ]
  }
 ],
 "metadata": {
  "colab": {
   "collapsed_sections": [],
   "name": "AV_Big_Mart_Sales_Prediction.ipynb",
   "provenance": []
  },
  "kernelspec": {
   "display_name": "Python 3",
   "language": "python",
   "name": "python3"
  },
  "language_info": {
   "codemirror_mode": {
    "name": "ipython",
    "version": 3
   },
   "file_extension": ".py",
   "mimetype": "text/x-python",
   "name": "python",
   "nbconvert_exporter": "python",
   "pygments_lexer": "ipython3",
   "version": "3.7.7"
  }
 },
 "nbformat": 4,
 "nbformat_minor": 1
}
